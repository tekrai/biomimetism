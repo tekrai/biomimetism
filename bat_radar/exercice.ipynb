{
 "cells": [
  {
   "attachments": {},
   "cell_type": "markdown",
   "id": "4f4167d746bd6617",
   "metadata": {
    "collapsed": false
   },
   "source": [
    "# Le Bat-Radar\n",
    "## Vous devez remplir les trous de code simulés par des ???\n",
    "À la fin du programme, vous devrez avoir un graphique qui ressemble à ça :\n",
    "\n",
    "![Bat radar](bat_radar_fin.png)"
   ]
  },
  {
   "cell_type": "code",
   "execution_count": null,
   "id": "initial_id",
   "metadata": {
    "ExecuteTime": {
     "end_time": "2023-12-07T16:01:25.816234182Z",
     "start_time": "2023-12-07T16:01:25.774044688Z"
    },
    "collapsed": false
   },
   "outputs": [],
   "source": [
    "import numpy as np\n",
    "import time\n",
    "import matplotlib.pyplot as plt\n",
    "\n",
    "# Fonction pour générer un son à haute fréquence\n",
    "def generate_sound(frequency, duration):\n",
    "    samples = np.sin(2 * np.pi * ??? * np.arange(duration))\n",
    "    return ???"
   ]
  },
  {
   "attachments": {},
   "cell_type": "markdown",
   "id": "9df3ff57",
   "metadata": {},
   "source": [
    "Insérez les paramètres aux bons endroits pour calculer la distance"
   ]
  },
  {
   "cell_type": "code",
   "execution_count": 2,
   "id": "19985ad13bbafa7d",
   "metadata": {
    "ExecuteTime": {
     "end_time": "2023-12-07T16:01:25.816871766Z",
     "start_time": "2023-12-07T16:01:25.815103581Z"
    },
    "collapsed": false
   },
   "outputs": [],
   "source": [
    "# Fonction pour calculer la distance d'un obstacle\n",
    "def calculate_distance(sound_speed, sound_duration, echo_duration):\n",
    "    distance = ??? * (echo_duration + ???) / 2\n",
    "    return distance"
   ]
  },
  {
   "attachments": {},
   "cell_type": "markdown",
   "id": "66b7840b",
   "metadata": {},
   "source": [
    "Comment mesure-t-on la distance entre 2 points ?"
   ]
  },
  {
   "cell_type": "code",
   "execution_count": null,
   "id": "a4e8c3d5b8fbea5f",
   "metadata": {
    "ExecuteTime": {
     "end_time": "2023-12-07T16:01:26.308626234Z",
     "start_time": "2023-12-07T16:01:25.815542782Z"
    },
    "collapsed": false
   },
   "outputs": [],
   "source": [
    "# Fonction pour calculer la direction d'un obstacle\n",
    "def calculate_direction(sound_x, ???, ???, echo_y):\n",
    "    direction = np.arctan2(echo_y - ???, ??? - sound_x)\n",
    "    return direction"
   ]
  },
  {
   "cell_type": "code",
   "execution_count": null,
   "id": "dfa3026e",
   "metadata": {},
   "outputs": [],
   "source": [
    "# Fonction pour générer un schéma représentant le son\n",
    "def generate_sound_plot(???, duration):\n",
    "    samples = generate_sound(???, duration)\n",
    "    plt.plot(???)\n",
    "    plt.xlabel(\"Temps (s)\")\n",
    "    plt.ylabel(\"Amplitude\")\n",
    "    plt.show()\n",
    "    plt.annotate(\"Fréquence :\", (0, 0.9), size=10)\n",
    "    plt.annotate(str(frequency), (0.6, 0.9), size=10)\n",
    "    plt.annotate(\"Durée :\", (0, 0.7), size=10)\n",
    "    plt.annotate(str(duration), (0.4, 0.7), size=10)"
   ]
  },
  {
   "attachments": {},
   "cell_type": "markdown",
   "id": "5c78e1c9",
   "metadata": {},
   "source": [
    "Maintenant, vous devez placer le robot en position (3, 2) et un obstacle en (6, 10)"
   ]
  },
  {
   "cell_type": "code",
   "execution_count": null,
   "id": "d22b38d2",
   "metadata": {},
   "outputs": [],
   "source": [
    "def main():\n",
    "    # Paramètres de l'algorithme\n",
    "    frequency = 440  # fréquence du son\n",
    "    duration = 2  # durée du son\n",
    "    sound_speed = 590  # vitesse du son\n",
    "\n",
    "    # Initialisation des variables\n",
    "    robot_x = ???\n",
    "    robot_y = ???\n",
    "    obstacle_x = ???\n",
    "    obstacle_y = ???\n",
    "\n",
    "    # Émission du son\n",
    "    print(\"Émission du son...\")\n",
    "    time.sleep(duration)\n",
    "\n",
    "    # Calcul de la distance et de la direction de l'obstacle\n",
    "\n",
    "    distance = calculate_distance(sound_speed, duration, 0.01)\n",
    "    direction = calculate_direction(robot_x, robot_y, obstacle_x, obstacle_y)\n",
    "    print(f'Distance : {distance}')\n",
    "    print(f'Direction :{direction:.2f}')\n",
    "\n",
    "    # Affichage du graphique\n",
    "    generate_sound_plot(???, ???)\n",
    "\n",
    "    # Affichage du graphique de l'obstacle\n",
    "    plt.plot([obstacle_x, obstacle_x], [obstacle_y, obstacle_y], \"o\")\n",
    "    plt.plot([robot_x, obstacle_x], [robot_y, obstacle_y], \"-r\")\n",
    "    plt.arrow(obstacle_x, obstacle_y, 0, direction, head_width=0.1, head_length=0.1)\n",
    "    plt.annotate(\"Distance :\", (obstacle_x + 0.01, obstacle_y + 0.75), size=10)\n",
    "    plt.annotate(str(distance), (obstacle_x, obstacle_y + 0.25), size=10)\n",
    "    plt.show()\n",
    "\n",
    "if __name__ == \"__main__\":\n",
    "    main()"
   ]
  },
  {
   "attachments": {},
   "cell_type": "markdown",
   "id": "d62c00c0",
   "metadata": {},
   "source": [
    "En plus du graphique final présenté au début de l'exercice, votre console devra afficher :\n",
    "```\n",
    "Distance : 153.4\n",
    "Direction : 1.21\n",
    "```"
   ]
  }
 ],
 "metadata": {
  "kernelspec": {
   "display_name": "Python 3",
   "language": "python",
   "name": "python3"
  },
  "language_info": {
   "codemirror_mode": {
    "name": "ipython",
    "version": 3
   },
   "file_extension": ".py",
   "mimetype": "text/x-python",
   "name": "python",
   "nbconvert_exporter": "python",
   "pygments_lexer": "ipython3",
   "version": "3.11.4 (main, Dec  7 2023, 15:43:41) [GCC 12.3.0]"
  },
  "vscode": {
   "interpreter": {
    "hash": "916dbcbb3f70747c44a77c7bcd40155683ae19c65e1c03b4aa3499c5328201f1"
   }
  }
 },
 "nbformat": 4,
 "nbformat_minor": 5
}
