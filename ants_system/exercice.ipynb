{
 "cells": [
  {
   "attachments": {},
   "cell_type": "markdown",
   "id": "4f4167d746bd6617",
   "metadata": {
    "collapsed": false
   },
   "source": [
    "# L'algorithme du systeme formique\n",
    "## Vous devez remplir les trous des codes simuler par des ???\n",
    "La valeur affichée à la fin du programme devra être :\n",
    "```\n",
    "[0, 1, 6, 4, 8, 7, 9, 5, 2, 5]\n",
    "```"
   ]
  },
  {
   "attachments": {},
   "cell_type": "markdown",
   "id": "fe599e44",
   "metadata": {},
   "source": []
  },
  {
   "cell_type": "code",
   "execution_count": null,
   "id": "initial_id",
   "metadata": {
    "ExecuteTime": {
     "end_time": "2023-12-07T16:01:25.816234182Z",
     "start_time": "2023-12-07T16:01:25.774044688Z"
    },
    "collapsed": false
   },
   "outputs": [],
   "source": [
    "import random\n",
    "\n",
    "class Ant:\n",
    "    def __init__(self, n_cities):\n",
    "        self.path = [0] * n_cities\n",
    "        self.current_city = 0\n",
    "\n",
    "    def choose_next_city(self, pheromones):\n",
    "        \"\"\"\n",
    "        This function chooses the next city to visit by the ant. It uses a probability function to choose the city\n",
    "        with the highest pheromones.\n",
    "        @rtype: object\n",
    "        @param pheromones:\n",
    "        @return:\n",
    "        \"\"\"\n",
    "        possible_cities = list(range(len(???)))\n",
    "        possible_cities.remove(self.current_city)\n",
    "\n",
    "        probabilities = [pheromones[self.current_city][i] / sum(pheromones[self.current_city]) for i in ???]\n",
    "        next_city = random.choices(possible_cities, weights=probabilities)[0]\n",
    "\n",
    "        return ???\n",
    "\n",
    "    def add_pheromone(self, pheromones):\n",
    "        \"\"\"\n",
    "        This function adds a pheromone to the path segment traveled by the ant.\n",
    "        @rtype: object\n",
    "        @param pheromones:\n",
    "        \"\"\"\n",
    "        pheromones[self.current_city][self.path[self.current_city]] += 1"
   ]
  },
  {
   "cell_type": "code",
   "execution_count": 2,
   "id": "19985ad13bbafa7d",
   "metadata": {
    "ExecuteTime": {
     "end_time": "2023-12-07T16:01:25.816871766Z",
     "start_time": "2023-12-07T16:01:25.815103581Z"
    },
    "collapsed": false
   },
   "outputs": [],
   "source": [
    "\"\"\"This class creates a new ant system with the specified parameters.\"\"\"\n",
    "\n",
    "\n",
    "class AntSystem:\n",
    "    def __init__(self, n_cities, pheromones_init):\n",
    "        self.n_cities = n_cities\n",
    "        self.pheromones = pheromones_init\n",
    "        self.ants = [Ant(n_cities) for _ in range(n_cities)]\n",
    "\n",
    "    def evaluate_solution(self):\n",
    "        \"\"\"\n",
    "        This function evaluates the current solution of the ant system. It returns the length of the shortest path found.\n",
    "        @rtype: object\n",
    "        @return: min(lengths_of_paths)\n",
    "        \"\"\"\n",
    "        lengths_of_paths = []\n",
    "        for ant in ???:\n",
    "            lengths_of_paths.append(ant.path)\n",
    "\n",
    "        return min(???)\n",
    "\n",
    "    def iterate(self):\n",
    "        \"\"\"\n",
    "        This function performs one iteration of the ant system algorithm. It makes the ants walk on the graph and deposit pheromones.\n",
    "        @rtype: object\n",
    "        \"\"\"\n",
    "        for ant in self.ants:\n",
    "            for i in range(self.n_cities - 1):\n",
    "                next_city = ant.???(self.pheromones)\n",
    "                ant.path[i + 1] = next_city\n",
    "                ant.current_city = ???\n",
    "\n",
    "        for ant in self.ants:\n",
    "            ant.add_pheromone(???)\n",
    "\n",
    "    def run(self, max_iters):\n",
    "        \"\"\"\n",
    "        This function runs the ant system algorithm for a specified number of iterations. It returns the length of the shortest path found.\n",
    "        @rtype: object\n",
    "        @param max_iters:\n",
    "        @return: the solution evaluate\n",
    "        \"\"\"\n",
    "        for _ in range(max_iters):\n",
    "            self.iterate()\n",
    "\n",
    "        return self.evaluate_solution()"
   ]
  },
  {
   "cell_type": "markdown",
   "id": "efa25b46",
   "metadata": {},
   "source": []
  },
  {
   "cell_type": "code",
   "execution_count": 3,
   "id": "a4e8c3d5b8fbea5f",
   "metadata": {
    "ExecuteTime": {
     "end_time": "2023-12-07T16:01:26.308626234Z",
     "start_time": "2023-12-07T16:01:25.815542782Z"
    },
    "collapsed": false
   },
   "outputs": [
    {
     "name": "stdout",
     "output_type": "stream",
     "text": [
      "[0, 0, 7, 4, 3, 0, 4, 6, 3, 6]\n"
     ]
    }
   ],
   "source": [
    "if __name__ == \"__main__\":\n",
    "    # Initialize parameters\n",
    "    n_cities = 10\n",
    "    pheromones_init = ???\n",
    "\n",
    "    # Create ant system\n",
    "    ant_system = ???\n",
    "\n",
    "    # Run the algorithm\n",
    "    solution = ???\n",
    "\n",
    "    # Print the solution\n",
    "    print(solution)"
   ]
  }
 ],
 "metadata": {
  "kernelspec": {
   "display_name": "Python 3",
   "language": "python",
   "name": "python3"
  },
  "language_info": {
   "codemirror_mode": {
    "name": "ipython",
    "version": 3
   },
   "file_extension": ".py",
   "mimetype": "text/x-python",
   "name": "python",
   "nbconvert_exporter": "python",
   "pygments_lexer": "ipython3",
   "version": "3.11.4 (main, Dec  7 2023, 15:43:41) [GCC 12.3.0]"
  },
  "vscode": {
   "interpreter": {
    "hash": "916dbcbb3f70747c44a77c7bcd40155683ae19c65e1c03b4aa3499c5328201f1"
   }
  }
 },
 "nbformat": 4,
 "nbformat_minor": 5
}
